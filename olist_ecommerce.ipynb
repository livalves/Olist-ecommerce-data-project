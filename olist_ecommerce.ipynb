{
 "cells": [
  {
   "cell_type": "markdown",
   "id": "b2a243c3",
   "metadata": {},
   "source": [
    "# Projeto de Dados - Olist E-commerce\n",
    "Esse notebook possui os processos de ETL, análises, visualizações e conclusões solicitadas do Dataset Olist E-commerce."
   ]
  },
  {
   "cell_type": "code",
   "execution_count": 102,
   "id": "d2684c8d",
   "metadata": {},
   "outputs": [],
   "source": [
    "# Importando todas as bibliotecas necessárias\n",
    "import pandas as pd\n",
    "import numpy as np\n",
    "import matplotlib.pyplot as plt\n",
    "import seaborn as sns\n",
    "import plotly.express as px"
   ]
  },
  {
   "cell_type": "markdown",
   "id": "e3ba2a14",
   "metadata": {},
   "source": [
    "## 📥 Importação e Visualização dos Dados\n",
    "\n",
    "- Leitura dos CSVs para DataFrames\n",
    "- Obs: A base product_category_name_translation não será utilizada, pois a base products já possui a coluna 'product_category_name'."
   ]
  },
  {
   "cell_type": "code",
   "execution_count": 103,
   "id": "837504d9",
   "metadata": {},
   "outputs": [],
   "source": [
    "df_csv_customers = pd.read_csv('data/olist_customers_dataset.csv')\n",
    "df_csv_geolocation = pd.read_csv('data/olist_geolocation_dataset.csv')\n",
    "df_csv_order_items = pd.read_csv('data/olist_order_items_dataset.csv')\n",
    "df_csv_payments = pd.read_csv('data/olist_order_payments_dataset.csv')\n",
    "df_csv_reviews = pd.read_csv('data/olist_order_reviews_dataset.csv')\n",
    "df_csv_orders = pd.read_csv('data/olist_orders_dataset.csv')\n",
    "df_csv_products = pd.read_csv('data/olist_products_dataset.csv')\n",
    "df_csv_sellers = pd.read_csv('data/olist_sellers_dataset.csv')"
   ]
  },
  {
   "cell_type": "markdown",
   "id": "897c9288",
   "metadata": {},
   "source": [
    "## 🧹 Limpeza e Transformação dos Dados\n",
    "\n",
    "A limpeza nos dataframes a baixo é feita para evitar duplicidade de dados, selecionar apenas as colunas necessárias \n",
    "e evitar erros de leitura. Algumas colunas são renomeadas para facilitar a leitura e o entendimento do código.\n",
    "\n",
    "- Tratamento de nulos, tipos, duplicatas\n",
    "- Normalização e seleção de colunas a serem utilizadas"
   ]
  },
  {
   "cell_type": "code",
   "execution_count": 104,
   "id": "910f7e4b",
   "metadata": {},
   "outputs": [],
   "source": [
    "# A base 'orders' possui valores nulos em colunas relevantes de data (order_delivered_carrier_date, order_delivered_customer_date, order_approved_at).\n",
    "# Para evitar perda de dados, foi criada a coluna 'customer_confirmed_delivery', que assume False\n",
    "# quando as datas de entrega e aprovação estão ausentes, indicando que o pedido não foi concluído.\n",
    "def transf_orders(df):\n",
    "    df['customer_confirmed_delivery'] = (\n",
    "        df['order_delivered_carrier_date'].isna() &\n",
    "        df['order_delivered_customer_date'].isna() &\n",
    "        df['order_approved_at'].isna()\n",
    "    )\n",
    "    return df\n",
    "\n",
    "\n",
    "# Colunas de preço e frete são renomeadas.\n",
    "# Criação da coluna 'qtd_order_item' com o total de itens, visto que um pedido pode ter mais de uma linha referente ao mesmo produto.\n",
    "def transf_orders_items(df):\n",
    "    df = df.groupby(['order_id', 'product_id', 'seller_id', 'price', 'freight_value']).agg(\n",
    "        qtd_order_item=('order_id', 'count')\n",
    "    ).reset_index()\n",
    "    return df.rename(columns={'price': 'product_price', 'freight_value': 'product_shipping_cost'})\n",
    "\n",
    "\n",
    "# A base de pagamentos pode conter múltiplos registros por pedido, então somamos o valor total pago por pedido.\n",
    "# Visto que um mesmo pedido pode ter mais de um pagamento, e na análise não é necessário saber o tipo de pagamento ou outras informações.\n",
    "def transf_payments(df):\n",
    "    return df.groupby('order_id').agg(total_order_payments =('payment_value', 'sum')).reset_index()\n",
    "\n",
    "\n",
    "# Caso existam múltiplas avaliações para o mesmo pedido, será considerada apenas a maior nota.\n",
    "# Além disso, somente as colunas order_id e review_score são mantidas. \n",
    "def transf_reviews(df):\n",
    "    return df.groupby('order_id')['review_score'].max().reset_index(name='order_score_review')\n",
    "\n",
    "\n",
    "# Mantém apenas ID e categoria dos produtos. Caso a categoria seja nula, será substituída por 'sem_categoria'.\n",
    "def transf_product(df):\n",
    "    df['product_category_name'] = df['product_category_name'].fillna('sem_categoria')\n",
    "    return df[['product_id', 'product_category_name']]"
   ]
  },
  {
   "cell_type": "markdown",
   "id": "3922bffd",
   "metadata": {},
   "source": [
    "## ✅ Validação de Consistência dos Dados\n",
    "\n",
    "- Função para identificar nulos, strings vazias e valores negativos.\n",
    "- Parâmetro opcional para ignorar colunas numéricas específicas ao verificar valores negativos."
   ]
  },
  {
   "cell_type": "code",
   "execution_count": 105,
   "id": "5068839d",
   "metadata": {},
   "outputs": [],
   "source": [
    "def check_inconsistencies(df, nome, ignore_negative_cols=None):\n",
    "    inconsistencias = []\n",
    "\n",
    "    # Duplicatas\n",
    "    duplicadas = df.duplicated().sum()\n",
    "    if duplicadas > 0:\n",
    "        inconsistencias.append(f\"- Duplicadas: {duplicadas}\")\n",
    "\n",
    "    # Nulos\n",
    "    nulos = df.isnull().sum()\n",
    "    nulos = nulos[nulos > 0]\n",
    "    if not nulos.empty:\n",
    "        inconsistencias.append(\"- Valores nulos:\\n\" + str(nulos))\n",
    "\n",
    "    # Strings vazias\n",
    "    vazias = df.select_dtypes(include='object').apply(lambda col: (col == '').sum())\n",
    "    vazias = vazias[vazias > 0]\n",
    "    if not vazias.empty:\n",
    "        inconsistencias.append(\"- Strings vazias (''):\\n\" + str(vazias))\n",
    "\n",
    "    # Valores negativos\n",
    "    numeric_cols = df.select_dtypes(include='number')\n",
    "    if ignore_negative_cols:\n",
    "        numeric_cols = numeric_cols.drop(columns=ignore_negative_cols, errors='ignore')\n",
    "    negativos = (numeric_cols < 0).sum()\n",
    "    negativos = negativos[negativos > 0]\n",
    "    if not negativos.empty:\n",
    "        inconsistencias.append(\"- Valores negativos:\\n\" + str(negativos))\n",
    "\n",
    "    # Exibe somente se houver alguma inconsistência\n",
    "    if inconsistencias:\n",
    "        print(f\"\\n {nome.upper()}\")\n",
    "        for item in inconsistencias:\n",
    "            print(item)\n"
   ]
  },
  {
   "cell_type": "code",
   "execution_count": 106,
   "id": "f2abdbd3",
   "metadata": {},
   "outputs": [
    {
     "name": "stdout",
     "output_type": "stream",
     "text": [
      "\n",
      " DF_ORDERS\n",
      "- Valores nulos:\n",
      "order_approved_at                 160\n",
      "order_delivered_carrier_date     1783\n",
      "order_delivered_customer_date    2965\n",
      "dtype: int64\n"
     ]
    }
   ],
   "source": [
    "# Lembre-se que o df_orders terá dados nulos, pois a coluna customer_confirmed_delivery foi criada para resolver isso.\n",
    "\n",
    "df_orders = transf_orders(df_csv_orders)\n",
    "check_inconsistencies(df_orders, 'df_orders')\n",
    "\n",
    "df_customers = df_csv_customers.drop_duplicates()\n",
    "check_inconsistencies(df_customers, 'df_customers')\n",
    "\n",
    "df_geolacation = df_csv_geolocation.drop_duplicates()\n",
    "check_inconsistencies(df_geolacation, 'df_geolocation', ignore_negative_cols=['geolocation_lat','geolocation_lng'])\n",
    "\n",
    "df_sellers = df_csv_sellers.drop_duplicates()\n",
    "check_inconsistencies(df_sellers, 'df_sellers')\n",
    "\n",
    "df_orders_items = transf_orders_items(df_csv_order_items)\n",
    "df_orders_items_valid = check_inconsistencies(df_orders_items, 'df_orders_items')\n",
    "\n",
    "df_payments = transf_payments(df_csv_payments)\n",
    "df_payments_valid = check_inconsistencies(df_payments, 'df_payments')\n",
    "\n",
    "df_reviews = transf_reviews(df_csv_reviews)\n",
    "df_reviews_valid = check_inconsistencies(df_reviews, 'df_reviews')\n",
    "\n",
    "df_products = transf_product(df_csv_products)\n",
    "df_products_valid = check_inconsistencies(df_products, 'df_products')"
   ]
  },
  {
   "cell_type": "markdown",
   "id": "5114d3a2",
   "metadata": {},
   "source": [
    "## Análise Exploratória de Dados (EDA)"
   ]
  },
  {
   "cell_type": "code",
   "execution_count": null,
   "id": "811946b7",
   "metadata": {},
   "outputs": [],
   "source": []
  },
  {
   "cell_type": "markdown",
   "id": "67257a52",
   "metadata": {},
   "source": [
    "## Solução dos Problemas de Negócio\n",
    "- Análise de Retenção\n",
    "- Predição de Atraso\n",
    "- Clustering\n",
    "- Avaliação de Satisfação"
   ]
  },
  {
   "cell_type": "code",
   "execution_count": null,
   "id": "e5c6dfc4",
   "metadata": {},
   "outputs": [],
   "source": []
  },
  {
   "cell_type": "markdown",
   "id": "6d69b020",
   "metadata": {},
   "source": [
    "# Visualizações e Dashboards"
   ]
  },
  {
   "cell_type": "code",
   "execution_count": null,
   "id": "0bc01620",
   "metadata": {},
   "outputs": [],
   "source": []
  },
  {
   "cell_type": "markdown",
   "id": "0b63335e",
   "metadata": {},
   "source": [
    "# Conclusões"
   ]
  }
 ],
 "metadata": {
  "kernelspec": {
   "display_name": "Python 3",
   "language": "python",
   "name": "python3"
  },
  "language_info": {
   "codemirror_mode": {
    "name": "ipython",
    "version": 3
   },
   "file_extension": ".py",
   "mimetype": "text/x-python",
   "name": "python",
   "nbconvert_exporter": "python",
   "pygments_lexer": "ipython3",
   "version": "3.13.2"
  }
 },
 "nbformat": 4,
 "nbformat_minor": 5
}
