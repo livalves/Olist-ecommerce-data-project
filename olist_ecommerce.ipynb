{
 "cells": [
  {
   "cell_type": "markdown",
   "id": "b2a243c3",
   "metadata": {},
   "source": [
    "# Projeto de Dados - Olist E-commerce\n",
    "Esse notebook possui os processos de ETL, análises, visualizações e conclusões solicitadas do Dataset Olist E-commerce."
   ]
  },
  {
   "cell_type": "markdown",
   "id": "e3ba2a14",
   "metadata": {},
   "source": [
    "## Importação e Visualização dos Dados\n",
    "- Leitura dos CSVs\n",
    "- Visualização inicial"
   ]
  },
  {
   "cell_type": "code",
   "execution_count": null,
   "id": "8bbc525b",
   "metadata": {},
   "outputs": [],
   "source": []
  },
  {
   "cell_type": "markdown",
   "id": "897c9288",
   "metadata": {},
   "source": [
    "## Limpeza e Preparação dos Dados\n",
    "- Tratamento de nulos, tipos, duplicatas\n",
    "- Normalização de colunas"
   ]
  },
  {
   "cell_type": "code",
   "execution_count": null,
   "id": "910f7e4b",
   "metadata": {},
   "outputs": [],
   "source": []
  },
  {
   "cell_type": "markdown",
   "id": "05e1fadf",
   "metadata": {},
   "source": [
    "## Modelagem Relacional (com Pandas)\n",
    "- Junções entre os datasets"
   ]
  },
  {
   "cell_type": "code",
   "execution_count": null,
   "id": "dbbe350e",
   "metadata": {},
   "outputs": [],
   "source": []
  },
  {
   "cell_type": "markdown",
   "id": "5114d3a2",
   "metadata": {},
   "source": [
    "## Análise Exploratória de Dados (EDA)"
   ]
  },
  {
   "cell_type": "code",
   "execution_count": null,
   "id": "811946b7",
   "metadata": {},
   "outputs": [],
   "source": []
  },
  {
   "cell_type": "markdown",
   "id": "67257a52",
   "metadata": {},
   "source": [
    "## Solução dos Problemas de Negócio\n",
    "- Análise de Retenção\n",
    "- Predição de Atraso\n",
    "- Clustering\n",
    "- Avaliação de Satisfação"
   ]
  },
  {
   "cell_type": "code",
   "execution_count": null,
   "id": "e5c6dfc4",
   "metadata": {},
   "outputs": [],
   "source": []
  },
  {
   "cell_type": "markdown",
   "id": "6d69b020",
   "metadata": {},
   "source": [
    "# Visualizações e Dashboards"
   ]
  },
  {
   "cell_type": "code",
   "execution_count": null,
   "id": "0bc01620",
   "metadata": {},
   "outputs": [],
   "source": []
  },
  {
   "cell_type": "markdown",
   "id": "0b63335e",
   "metadata": {},
   "source": [
    "# Conclusões"
   ]
  }
 ],
 "metadata": {
  "kernelspec": {
   "display_name": "Python 3",
   "language": "python",
   "name": "python3"
  },
  "language_info": {
   "codemirror_mode": {
    "name": "ipython",
    "version": 3
   },
   "file_extension": ".py",
   "mimetype": "text/x-python",
   "name": "python",
   "nbconvert_exporter": "python",
   "pygments_lexer": "ipython3",
   "version": "3.13.2"
  }
 },
 "nbformat": 4,
 "nbformat_minor": 5
}
